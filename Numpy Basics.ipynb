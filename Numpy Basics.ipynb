{
  "nbformat": 4,
  "nbformat_minor": 0,
  "metadata": {
    "colab": {
      "provenance": [],
      "toc_visible": true
    },
    "kernelspec": {
      "name": "python3",
      "display_name": "Python 3"
    },
    "language_info": {
      "name": "python"
    }
  },
  "cells": [
    {
      "cell_type": "markdown",
      "source": [
        "# T**opic 1: Numpy**"
      ],
      "metadata": {
        "id": "OC0iAIJF1qWT"
      }
    },
    {
      "cell_type": "code",
      "source": [
        "import numpy as np"
      ],
      "metadata": {
        "id": "X6oWuNwk1t82"
      },
      "execution_count": 3,
      "outputs": []
    },
    {
      "cell_type": "code",
      "source": [
        "# Initialize numpy array(explicitly).\n",
        "\n",
        "a = np.array([0, 1, 2, 3])\n",
        "print(a)"
      ],
      "metadata": {
        "id": "hyHRxGHo2AVA",
        "colab": {
          "base_uri": "https://localhost:8080/"
        },
        "outputId": "7eb5111d-86c3-4890-de51-c796abfeca58"
      },
      "execution_count": null,
      "outputs": [
        {
          "output_type": "stream",
          "name": "stdout",
          "text": [
            "[0 1 2 3]\n"
          ]
        }
      ]
    },
    {
      "cell_type": "code",
      "source": [
        "a.ndim"
      ],
      "metadata": {
        "colab": {
          "base_uri": "https://localhost:8080/"
        },
        "id": "0zpg-_TtrXb4",
        "outputId": "6722ec12-d265-4563-d35b-8df3ace4a58c"
      },
      "execution_count": null,
      "outputs": [
        {
          "output_type": "execute_result",
          "data": {
            "text/plain": [
              "1"
            ]
          },
          "metadata": {},
          "execution_count": 25
        }
      ]
    },
    {
      "cell_type": "code",
      "source": [
        "# Using arange method to initialize numpy array.\n",
        "\n",
        "print(np.arange(10))"
      ],
      "metadata": {
        "colab": {
          "base_uri": "https://localhost:8080/"
        },
        "id": "bq6OfyWMUKag",
        "outputId": "5b1fc3d2-808a-4d1b-9667-65f66982a26e"
      },
      "execution_count": null,
      "outputs": [
        {
          "output_type": "stream",
          "name": "stdout",
          "text": [
            "[0 1 2 3 4 5 6 7 8 9]\n"
          ]
        }
      ]
    },
    {
      "cell_type": "code",
      "source": [
        "# Numpy is a memory efficient container that provides fast numerical operations.\n",
        "\n",
        "# python list\n",
        "L = range(1000)     # [0, 1, 2, 3...]\n",
        "%timeit [i**2 for i in L]     # [0, 1, 4, 9...]\n",
        "# timeit finds out the time taken per iteration of the fn"
      ],
      "metadata": {
        "colab": {
          "base_uri": "https://localhost:8080/"
        },
        "id": "_e1Pw6c1UZil",
        "outputId": "4ce43eb8-c4a0-4ba5-9598-20bee5124a50"
      },
      "execution_count": null,
      "outputs": [
        {
          "output_type": "stream",
          "name": "stdout",
          "text": [
            "300 µs ± 3.28 µs per loop (mean ± std. dev. of 7 runs, 1000 loops each)\n"
          ]
        }
      ]
    },
    {
      "cell_type": "code",
      "source": [
        "# numpy implementation\n",
        "a = np.arange(1000)\n",
        "%timeit a**2"
      ],
      "metadata": {
        "colab": {
          "base_uri": "https://localhost:8080/"
        },
        "id": "IRZghMk3WZwd",
        "outputId": "5fbc6190-1645-4767-d658-afd0893a3860"
      },
      "execution_count": null,
      "outputs": [
        {
          "output_type": "stream",
          "name": "stdout",
          "text": [
            "1.55 µs ± 338 ns per loop (mean ± std. dev. of 7 runs, 1000000 loops each)\n"
          ]
        }
      ]
    },
    {
      "cell_type": "code",
      "source": [
        "# numpy implementation is ~200 times faster than list implementation"
      ],
      "metadata": {
        "id": "nkPyokzIWm_0"
      },
      "execution_count": null,
      "outputs": []
    },
    {
      "cell_type": "markdown",
      "source": [
        "## **1.1 Creating arrays**"
      ],
      "metadata": {
        "id": "kK5F7aofaaEH"
      }
    },
    {
      "cell_type": "markdown",
      "source": [
        "##### **1.1.1 Manual construction**"
      ],
      "metadata": {
        "id": "bNobiBTtalQV"
      }
    },
    {
      "cell_type": "code",
      "source": [
        "# 1-d\n",
        "\n",
        "a = np.array([0, 1, 2, 3])\n",
        "\n",
        "a"
      ],
      "metadata": {
        "colab": {
          "base_uri": "https://localhost:8080/"
        },
        "id": "69D8FcuFasy4",
        "outputId": "ea9ac42e-571a-45f4-942d-cefa882e1f41"
      },
      "execution_count": null,
      "outputs": [
        {
          "output_type": "execute_result",
          "data": {
            "text/plain": [
              "array([0, 1, 2, 3])"
            ]
          },
          "metadata": {},
          "execution_count": 10
        }
      ]
    },
    {
      "cell_type": "code",
      "source": [
        "# print dimensions\n",
        "\n",
        "a.ndim"
      ],
      "metadata": {
        "colab": {
          "base_uri": "https://localhost:8080/"
        },
        "id": "aBueU0dPbN2c",
        "outputId": "9f842337-86ca-4118-e5bf-eca6f74046bf"
      },
      "execution_count": null,
      "outputs": [
        {
          "output_type": "execute_result",
          "data": {
            "text/plain": [
              "1"
            ]
          },
          "metadata": {},
          "execution_count": 12
        }
      ]
    },
    {
      "cell_type": "code",
      "source": [
        "# shape\n",
        "\n",
        "a.shape"
      ],
      "metadata": {
        "colab": {
          "base_uri": "https://localhost:8080/"
        },
        "id": "7rvBMAfnbSB5",
        "outputId": "9d4cb832-16b3-4a95-f51a-5f12ee969449"
      },
      "execution_count": null,
      "outputs": [
        {
          "output_type": "execute_result",
          "data": {
            "text/plain": [
              "(4,)"
            ]
          },
          "metadata": {},
          "execution_count": 13
        }
      ]
    },
    {
      "cell_type": "code",
      "source": [
        "# length\n",
        "\n",
        "len(a)"
      ],
      "metadata": {
        "colab": {
          "base_uri": "https://localhost:8080/"
        },
        "id": "nvVQgFiObg9S",
        "outputId": "59bdf928-8ffb-4e47-a0c8-8671f3126ad4"
      },
      "execution_count": null,
      "outputs": [
        {
          "output_type": "execute_result",
          "data": {
            "text/plain": [
              "4"
            ]
          },
          "metadata": {},
          "execution_count": 14
        }
      ]
    },
    {
      "cell_type": "code",
      "source": [
        "# 2-d, 3-d... arrays(Give a list of lists)\n",
        "# numpy takes each list as row\n",
        "\n",
        "b = np.array([[0, 1, 2], [3, 4, 5]])\n",
        "\n",
        "b"
      ],
      "metadata": {
        "colab": {
          "base_uri": "https://localhost:8080/"
        },
        "id": "PpWtcO4PbmGx",
        "outputId": "76083c57-b6c7-410f-a338-95892d9278ed"
      },
      "execution_count": null,
      "outputs": [
        {
          "output_type": "execute_result",
          "data": {
            "text/plain": [
              "array([[0, 1, 2],\n",
              "       [3, 4, 5]])"
            ]
          },
          "metadata": {},
          "execution_count": 15
        }
      ]
    },
    {
      "cell_type": "code",
      "source": [
        "b.ndim"
      ],
      "metadata": {
        "colab": {
          "base_uri": "https://localhost:8080/"
        },
        "id": "jasY-IZnb1Nk",
        "outputId": "9e0c0af6-8745-47e0-9193-2ad7a6d2100e"
      },
      "execution_count": null,
      "outputs": [
        {
          "output_type": "execute_result",
          "data": {
            "text/plain": [
              "2"
            ]
          },
          "metadata": {},
          "execution_count": 16
        }
      ]
    },
    {
      "cell_type": "code",
      "source": [
        "b.shape"
      ],
      "metadata": {
        "colab": {
          "base_uri": "https://localhost:8080/"
        },
        "id": "OaKY-9Ric6Ul",
        "outputId": "d9f933e5-eb6b-40a4-c3da-57387af9decb"
      },
      "execution_count": null,
      "outputs": [
        {
          "output_type": "execute_result",
          "data": {
            "text/plain": [
              "(2, 3)"
            ]
          },
          "metadata": {},
          "execution_count": 17
        }
      ]
    },
    {
      "cell_type": "code",
      "source": [
        "len(b) #gives size of the first dimension"
      ],
      "metadata": {
        "colab": {
          "base_uri": "https://localhost:8080/"
        },
        "id": "G_Z-Hf0zc7l9",
        "outputId": "14eced34-88a5-4fea-b408-dc97ab3fdd55"
      },
      "execution_count": null,
      "outputs": [
        {
          "output_type": "execute_result",
          "data": {
            "text/plain": [
              "2"
            ]
          },
          "metadata": {},
          "execution_count": 19
        }
      ]
    },
    {
      "cell_type": "code",
      "source": [
        "# 3-d(List within a list within a list)\n",
        "\n",
        "c = np.array([[[0, 1], [2, 3]], [[4, 5], [6, 7]]])\n",
        "c"
      ],
      "metadata": {
        "colab": {
          "base_uri": "https://localhost:8080/"
        },
        "id": "HEHLXDZGdBW7",
        "outputId": "2d02b734-3c0c-4cff-fbb3-10e84752126b"
      },
      "execution_count": null,
      "outputs": [
        {
          "output_type": "execute_result",
          "data": {
            "text/plain": [
              "array([[[0, 1],\n",
              "        [2, 3]],\n",
              "\n",
              "       [[4, 5],\n",
              "        [6, 7]]])"
            ]
          },
          "metadata": {},
          "execution_count": 21
        }
      ]
    },
    {
      "cell_type": "code",
      "source": [
        "c.ndim"
      ],
      "metadata": {
        "colab": {
          "base_uri": "https://localhost:8080/"
        },
        "id": "gY05lRyhdjBO",
        "outputId": "25737a03-283f-4d83-880b-03bafc0ea702"
      },
      "execution_count": null,
      "outputs": [
        {
          "output_type": "execute_result",
          "data": {
            "text/plain": [
              "3"
            ]
          },
          "metadata": {},
          "execution_count": 22
        }
      ]
    },
    {
      "cell_type": "code",
      "source": [
        "c.shape"
      ],
      "metadata": {
        "colab": {
          "base_uri": "https://localhost:8080/"
        },
        "id": "EMN3Dp6Zdrh_",
        "outputId": "582261ee-c47f-46a3-c243-0438b61a406b"
      },
      "execution_count": null,
      "outputs": [
        {
          "output_type": "execute_result",
          "data": {
            "text/plain": [
              "(2, 2, 2)"
            ]
          },
          "metadata": {},
          "execution_count": 23
        }
      ]
    },
    {
      "cell_type": "code",
      "source": [
        "# 1-D array --> Vector\n",
        "# 2-D array --> matrix\n",
        "# n-D array --> Tensor"
      ],
      "metadata": {
        "id": "M9SuweKAd5kS"
      },
      "execution_count": null,
      "outputs": []
    },
    {
      "cell_type": "markdown",
      "source": [
        "#### **1.1.2 Functions for creating arrays**"
      ],
      "metadata": {
        "id": "lbUQXeSartcM"
      }
    },
    {
      "cell_type": "code",
      "source": [
        "# Using arange fn\n",
        "# arange is an array-valued version of the built-in python range function\n",
        "\n",
        "a = np.arange(10) # 0...n-1\n",
        "a"
      ],
      "metadata": {
        "colab": {
          "base_uri": "https://localhost:8080/"
        },
        "id": "iYikoqiEr1jL",
        "outputId": "5c225116-263b-4789-c0fc-f2999855669d"
      },
      "execution_count": null,
      "outputs": [
        {
          "output_type": "execute_result",
          "data": {
            "text/plain": [
              "array([0, 1, 2, 3, 4, 5, 6, 7, 8, 9])"
            ]
          },
          "metadata": {},
          "execution_count": 27
        }
      ]
    },
    {
      "cell_type": "code",
      "source": [
        "b = np.arange(1, 10, 2) #(start, end(exclusive), step)\n",
        "b"
      ],
      "metadata": {
        "colab": {
          "base_uri": "https://localhost:8080/"
        },
        "id": "idUxxEmPsJTf",
        "outputId": "090f9c99-4baf-4194-b7f6-058494eeaa6f"
      },
      "execution_count": null,
      "outputs": [
        {
          "output_type": "execute_result",
          "data": {
            "text/plain": [
              "array([1, 3, 5, 7, 9])"
            ]
          },
          "metadata": {},
          "execution_count": 31
        }
      ]
    },
    {
      "cell_type": "code",
      "source": [
        "# using linspace\n",
        "# divides the space between start and step in n points\n",
        "\n",
        "a = np.linspace(0, 1, 6) #(start, end, number of points)\n",
        "a"
      ],
      "metadata": {
        "colab": {
          "base_uri": "https://localhost:8080/"
        },
        "id": "3Qp30j1NsRSZ",
        "outputId": "64b0356b-c55c-4ff6-8d0c-983ec4378052"
      },
      "execution_count": null,
      "outputs": [
        {
          "output_type": "execute_result",
          "data": {
            "text/plain": [
              "array([0. , 0.2, 0.4, 0.6, 0.8, 1. ])"
            ]
          },
          "metadata": {},
          "execution_count": 33
        }
      ]
    },
    {
      "cell_type": "code",
      "source": [
        "# common arrays\n",
        "\n",
        "a = np.ones((3, 3))\n",
        "a"
      ],
      "metadata": {
        "colab": {
          "base_uri": "https://localhost:8080/"
        },
        "id": "HlwBU2Gps51E",
        "outputId": "4370f2c9-bfed-4c69-eabc-5deafac4499f"
      },
      "execution_count": null,
      "outputs": [
        {
          "output_type": "execute_result",
          "data": {
            "text/plain": [
              "array([[1., 1., 1.],\n",
              "       [1., 1., 1.],\n",
              "       [1., 1., 1.]])"
            ]
          },
          "metadata": {},
          "execution_count": 36
        }
      ]
    },
    {
      "cell_type": "code",
      "source": [
        "# common arrays\n",
        "\n",
        "b = np.zeros((3, 3))\n",
        "b"
      ],
      "metadata": {
        "colab": {
          "base_uri": "https://localhost:8080/"
        },
        "id": "yz2Ne1SItH6z",
        "outputId": "0c5f4f40-fd8f-42bf-9c3b-5967f78aedb2"
      },
      "execution_count": null,
      "outputs": [
        {
          "output_type": "execute_result",
          "data": {
            "text/plain": [
              "array([[0., 0., 0.],\n",
              "       [0., 0., 0.],\n",
              "       [0., 0., 0.]])"
            ]
          },
          "metadata": {},
          "execution_count": 38
        }
      ]
    },
    {
      "cell_type": "code",
      "source": [
        "np.eye(3) # Returns identity 3x3 matrix"
      ],
      "metadata": {
        "colab": {
          "base_uri": "https://localhost:8080/"
        },
        "id": "8hCkSVJ8trSl",
        "outputId": "a74287c3-3d34-4789-b2a5-04bec29837ee"
      },
      "execution_count": null,
      "outputs": [
        {
          "output_type": "execute_result",
          "data": {
            "text/plain": [
              "array([[1., 0., 0.],\n",
              "       [0., 1., 0.],\n",
              "       [0., 0., 1.]])"
            ]
          },
          "metadata": {},
          "execution_count": 42
        }
      ]
    },
    {
      "cell_type": "code",
      "source": [
        "a = np.eye(3, 2)\n",
        "a"
      ],
      "metadata": {
        "colab": {
          "base_uri": "https://localhost:8080/"
        },
        "id": "O_j9Gi2ltyX4",
        "outputId": "ae2ca035-a0e9-4a26-ab62-b9a2efbfe6f5"
      },
      "execution_count": null,
      "outputs": [
        {
          "output_type": "execute_result",
          "data": {
            "text/plain": [
              "array([[1., 0.],\n",
              "       [0., 1.],\n",
              "       [0., 0.]])"
            ]
          },
          "metadata": {},
          "execution_count": 43
        }
      ]
    },
    {
      "cell_type": "code",
      "source": [
        "# using diag fn\n",
        "\n",
        "a = np.diag([1, 2, 3, 4]) #construct a diagnol array\n",
        "a"
      ],
      "metadata": {
        "colab": {
          "base_uri": "https://localhost:8080/"
        },
        "id": "Ei1MUIact8fc",
        "outputId": "014a7aa6-d2f2-4091-a19a-199ccbb6dc2a"
      },
      "execution_count": null,
      "outputs": [
        {
          "output_type": "execute_result",
          "data": {
            "text/plain": [
              "array([[1, 0, 0, 0],\n",
              "       [0, 2, 0, 0],\n",
              "       [0, 0, 3, 0],\n",
              "       [0, 0, 0, 4]])"
            ]
          },
          "metadata": {},
          "execution_count": 44
        }
      ]
    },
    {
      "cell_type": "code",
      "source": [
        "np.diag(a)  # Extract diagnol"
      ],
      "metadata": {
        "colab": {
          "base_uri": "https://localhost:8080/"
        },
        "id": "ameLHfT0uOX0",
        "outputId": "ab10765b-266f-4598-b31e-a545ae0e1fec"
      },
      "execution_count": null,
      "outputs": [
        {
          "output_type": "execute_result",
          "data": {
            "text/plain": [
              "array([1, 2, 3, 4])"
            ]
          },
          "metadata": {},
          "execution_count": 46
        }
      ]
    },
    {
      "cell_type": "code",
      "source": [
        "# create array using random\n",
        "a = np.random.rand(4) # Uniform random variable\n",
        "a\n",
        "\n",
        "# np --> package\n",
        "# random --> sub package/module\n",
        "# rand --> function"
      ],
      "metadata": {
        "colab": {
          "base_uri": "https://localhost:8080/"
        },
        "id": "pvT3AwUxuUcj",
        "outputId": "a2ce3527-1d93-4290-aa89-835e3bb57072"
      },
      "execution_count": null,
      "outputs": [
        {
          "output_type": "execute_result",
          "data": {
            "text/plain": [
              "array([0.03241055, 0.76058975, 0.82208081, 0.2977766 ])"
            ]
          },
          "metadata": {},
          "execution_count": 50
        }
      ]
    },
    {
      "cell_type": "code",
      "source": [
        "a = np.random.randn(4) # Gaussian random variable\n",
        "a"
      ],
      "metadata": {
        "colab": {
          "base_uri": "https://localhost:8080/"
        },
        "id": "qc8iJPj5ueAP",
        "outputId": "b076139a-fa6c-4848-ecf0-45516a0673f9"
      },
      "execution_count": null,
      "outputs": [
        {
          "output_type": "execute_result",
          "data": {
            "text/plain": [
              "array([-1.25935596,  0.65662111,  0.43156028, -0.04070538])"
            ]
          },
          "metadata": {},
          "execution_count": 52
        }
      ]
    },
    {
      "cell_type": "code",
      "source": [],
      "metadata": {
        "id": "pviBPa1ku8Ws"
      },
      "execution_count": null,
      "outputs": []
    },
    {
      "cell_type": "markdown",
      "source": [
        "## **1.2 Basic Data Types**"
      ],
      "metadata": {
        "id": "BxkErWJqxokr"
      }
    },
    {
      "cell_type": "code",
      "source": [
        "# Trailing dots in array elements is due to difference in data type used"
      ],
      "metadata": {
        "id": "TXylkWJsxuQM"
      },
      "execution_count": null,
      "outputs": []
    },
    {
      "cell_type": "code",
      "source": [
        "a = np.arange(10)\n",
        "a.dtype"
      ],
      "metadata": {
        "colab": {
          "base_uri": "https://localhost:8080/"
        },
        "id": "gCGHDnQDyYkn",
        "outputId": "0af906f1-99bc-4871-d496-67a994364e1f"
      },
      "execution_count": null,
      "outputs": [
        {
          "output_type": "execute_result",
          "data": {
            "text/plain": [
              "dtype('int64')"
            ]
          },
          "metadata": {},
          "execution_count": 55
        }
      ]
    },
    {
      "cell_type": "code",
      "source": [
        "# Explicitly defining the required float\n",
        "\n",
        "a = np.arange(10, dtype = \"float64\")\n",
        "a"
      ],
      "metadata": {
        "colab": {
          "base_uri": "https://localhost:8080/"
        },
        "id": "hyGkEQMUyb-S",
        "outputId": "4960ad3f-6662-431b-e136-c3b8dbc38349"
      },
      "execution_count": null,
      "outputs": [
        {
          "output_type": "execute_result",
          "data": {
            "text/plain": [
              "array([0., 1., 2., 3., 4., 5., 6., 7., 8., 9.])"
            ]
          },
          "metadata": {},
          "execution_count": 56
        }
      ]
    },
    {
      "cell_type": "code",
      "source": [
        "# The default dtype for zeros and ones is float\n",
        "\n",
        "a = np.zeros((3, 3))\n",
        "print(a)\n",
        "a.dtype"
      ],
      "metadata": {
        "id": "3SExNNvwyqKe",
        "colab": {
          "base_uri": "https://localhost:8080/"
        },
        "outputId": "831e1ae8-4b69-4e2a-ab85-5871ebc04ac1"
      },
      "execution_count": 4,
      "outputs": [
        {
          "output_type": "stream",
          "name": "stdout",
          "text": [
            "[[0. 0. 0.]\n",
            " [0. 0. 0.]\n",
            " [0. 0. 0.]]\n"
          ]
        },
        {
          "output_type": "execute_result",
          "data": {
            "text/plain": [
              "dtype('float64')"
            ]
          },
          "metadata": {},
          "execution_count": 4
        }
      ]
    },
    {
      "cell_type": "markdown",
      "source": [
        "### **1.2.1 Other data types**"
      ],
      "metadata": {
        "id": "x3aB83CJtITU"
      }
    },
    {
      "cell_type": "code",
      "source": [
        "d = np.array([1+2j, 2+4j])\n",
        "print(d.dtype)"
      ],
      "metadata": {
        "colab": {
          "base_uri": "https://localhost:8080/"
        },
        "id": "GrVswesYtL9M",
        "outputId": "a76a0f51-1d6a-4d45-832c-549fecc6632a"
      },
      "execution_count": 5,
      "outputs": [
        {
          "output_type": "stream",
          "name": "stdout",
          "text": [
            "complex128\n"
          ]
        }
      ]
    },
    {
      "cell_type": "code",
      "source": [
        "b = np.array([True, False, True])\n",
        "print(b.dtype)"
      ],
      "metadata": {
        "colab": {
          "base_uri": "https://localhost:8080/"
        },
        "id": "21V6z_YBtZP2",
        "outputId": "87812773-2c62-4a01-d5df-d4417ddf4419"
      },
      "execution_count": 6,
      "outputs": [
        {
          "output_type": "stream",
          "name": "stdout",
          "text": [
            "bool\n"
          ]
        }
      ]
    },
    {
      "cell_type": "code",
      "source": [
        "s = np.array(['Ram', 'Robert', 'Shyam'])\n",
        "s.dtype"
      ],
      "metadata": {
        "colab": {
          "base_uri": "https://localhost:8080/"
        },
        "id": "yn4OzLmWtgRo",
        "outputId": "0e8da629-36c5-473f-b4f0-d9df0c8332a1"
      },
      "execution_count": 8,
      "outputs": [
        {
          "output_type": "execute_result",
          "data": {
            "text/plain": [
              "dtype('<U6')"
            ]
          },
          "metadata": {},
          "execution_count": 8
        }
      ]
    },
    {
      "cell_type": "markdown",
      "source": [
        "## **1.3 Indexing and Slicing**"
      ],
      "metadata": {
        "id": "5JrukcrquDEj"
      }
    },
    {
      "cell_type": "markdown",
      "source": [
        "### **1.3.1 Indexing**"
      ],
      "metadata": {
        "id": "ahAPbCb0uLbJ"
      }
    },
    {
      "cell_type": "code",
      "source": [
        "a = np.arange(10)\n",
        "print(a[5])"
      ],
      "metadata": {
        "colab": {
          "base_uri": "https://localhost:8080/"
        },
        "id": "r05pOjY8uRAm",
        "outputId": "392964c5-8b59-4734-9f1d-0d3a64359066"
      },
      "execution_count": 9,
      "outputs": [
        {
          "output_type": "stream",
          "name": "stdout",
          "text": [
            "5\n"
          ]
        }
      ]
    },
    {
      "cell_type": "code",
      "source": [
        "a = np.diag([1, 2, 3])\n",
        "print(a[2, 2])      # row 2, col 2"
      ],
      "metadata": {
        "colab": {
          "base_uri": "https://localhost:8080/"
        },
        "id": "I3oMpZ71udcE",
        "outputId": "9752f87e-619c-4bf2-f9a1-3c17b4d3d5b2"
      },
      "execution_count": 10,
      "outputs": [
        {
          "output_type": "stream",
          "name": "stdout",
          "text": [
            "3\n"
          ]
        }
      ]
    },
    {
      "cell_type": "code",
      "source": [
        "a[2, 1] = 5     # assigning value\n",
        "a"
      ],
      "metadata": {
        "colab": {
          "base_uri": "https://localhost:8080/"
        },
        "id": "-amgE99MulBu",
        "outputId": "f7bcd2b5-0b98-4a0d-b2ba-fd440b8201e9"
      },
      "execution_count": 12,
      "outputs": [
        {
          "output_type": "execute_result",
          "data": {
            "text/plain": [
              "array([[1, 0, 0],\n",
              "       [0, 2, 0],\n",
              "       [0, 5, 3]])"
            ]
          },
          "metadata": {},
          "execution_count": 12
        }
      ]
    },
    {
      "cell_type": "markdown",
      "source": [
        "### **1.3.2 Slicing**"
      ],
      "metadata": {
        "id": "2zvSRFOhu1ek"
      }
    },
    {
      "cell_type": "code",
      "source": [
        "a = np.arange(10)\n",
        "a"
      ],
      "metadata": {
        "colab": {
          "base_uri": "https://localhost:8080/"
        },
        "id": "M4rfMXOnu6Le",
        "outputId": "8a343662-a457-4670-aa06-0d7f6d67c2ec"
      },
      "execution_count": 13,
      "outputs": [
        {
          "output_type": "execute_result",
          "data": {
            "text/plain": [
              "array([0, 1, 2, 3, 4, 5, 6, 7, 8, 9])"
            ]
          },
          "metadata": {},
          "execution_count": 13
        }
      ]
    },
    {
      "cell_type": "code",
      "source": [
        "a[1:8:2]    # [startindex: endindex(exclusive): step]"
      ],
      "metadata": {
        "colab": {
          "base_uri": "https://localhost:8080/"
        },
        "id": "Ty0mvn6evAui",
        "outputId": "7b062840-2673-4eac-eaae-13672f440bb8"
      },
      "execution_count": 14,
      "outputs": [
        {
          "output_type": "execute_result",
          "data": {
            "text/plain": [
              "array([1, 3, 5, 7])"
            ]
          },
          "metadata": {},
          "execution_count": 14
        }
      ]
    },
    {
      "cell_type": "code",
      "source": [
        "# we can also combine assignment and slicing\n",
        "\n",
        "a = np.arange(10)\n",
        "a[5:] = 10\n",
        "a"
      ],
      "metadata": {
        "colab": {
          "base_uri": "https://localhost:8080/"
        },
        "id": "h71sd4u3vND2",
        "outputId": "406c36c7-416d-424d-f351-0e3f8d401df2"
      },
      "execution_count": 15,
      "outputs": [
        {
          "output_type": "execute_result",
          "data": {
            "text/plain": [
              "array([ 0,  1,  2,  3,  4, 10, 10, 10, 10, 10])"
            ]
          },
          "metadata": {},
          "execution_count": 15
        }
      ]
    },
    {
      "cell_type": "code",
      "source": [
        "b = np.arange(5)\n",
        "a[5:] = b[::-1] # assigning\n",
        "a"
      ],
      "metadata": {
        "colab": {
          "base_uri": "https://localhost:8080/"
        },
        "id": "i2Q9O4qSvZ3O",
        "outputId": "fe892a3a-1f7f-46ac-a3da-b9f4a84000e0"
      },
      "execution_count": 16,
      "outputs": [
        {
          "output_type": "execute_result",
          "data": {
            "text/plain": [
              "array([0, 1, 2, 3, 4, 4, 3, 2, 1, 0])"
            ]
          },
          "metadata": {},
          "execution_count": 16
        }
      ]
    },
    {
      "cell_type": "markdown",
      "source": [
        "## 1.4 **Copies and Views**"
      ],
      "metadata": {
        "id": "Iy5SLQffv-Z6"
      }
    },
    {
      "cell_type": "markdown",
      "source": [
        "A slicing operation creates a view on the original array, which is just a way of accessing array data. Thus the orignial array is not copies into memory. You can use np.may_share_memory() to check if two arrays share the same memory block.\n",
        "\n",
        "When modifying the view, the original array is modified as well."
      ],
      "metadata": {
        "id": "KIWqc0thwWgr"
      }
    },
    {
      "cell_type": "code",
      "source": [
        "a = np.arange(10)\n",
        "a"
      ],
      "metadata": {
        "colab": {
          "base_uri": "https://localhost:8080/"
        },
        "id": "P6zTdbC0wYOY",
        "outputId": "00c2a42b-adba-49e4-f045-3e73bfa6211d"
      },
      "execution_count": 17,
      "outputs": [
        {
          "output_type": "execute_result",
          "data": {
            "text/plain": [
              "array([0, 1, 2, 3, 4, 5, 6, 7, 8, 9])"
            ]
          },
          "metadata": {},
          "execution_count": 17
        }
      ]
    },
    {
      "cell_type": "code",
      "source": [
        "b = a[::2]\n",
        "b"
      ],
      "metadata": {
        "colab": {
          "base_uri": "https://localhost:8080/"
        },
        "id": "kob5Uy-5xAgo",
        "outputId": "7bb14ccf-cce4-4c0a-e8e4-a109a4c11a40"
      },
      "execution_count": 18,
      "outputs": [
        {
          "output_type": "execute_result",
          "data": {
            "text/plain": [
              "array([0, 2, 4, 6, 8])"
            ]
          },
          "metadata": {},
          "execution_count": 18
        }
      ]
    },
    {
      "cell_type": "code",
      "source": [
        "np.shares_memory(a, b)"
      ],
      "metadata": {
        "colab": {
          "base_uri": "https://localhost:8080/"
        },
        "id": "t43xgm8lxCNf",
        "outputId": "3514d4dd-01cf-485b-b2b3-7114fc94e379"
      },
      "execution_count": 19,
      "outputs": [
        {
          "output_type": "execute_result",
          "data": {
            "text/plain": [
              "True"
            ]
          },
          "metadata": {},
          "execution_count": 19
        }
      ]
    },
    {
      "cell_type": "code",
      "source": [
        "b[0] = 10\n",
        "b"
      ],
      "metadata": {
        "colab": {
          "base_uri": "https://localhost:8080/"
        },
        "id": "Jq7DlMKCxMAJ",
        "outputId": "13ccecdc-60b8-45c6-937b-4e8b4d12a7f2"
      },
      "execution_count": 20,
      "outputs": [
        {
          "output_type": "execute_result",
          "data": {
            "text/plain": [
              "array([10,  2,  4,  6,  8])"
            ]
          },
          "metadata": {},
          "execution_count": 20
        }
      ]
    },
    {
      "cell_type": "code",
      "source": [
        "a # even though we modified b, a also changed because a and b both point to same location in memory which is a property of slicing"
      ],
      "metadata": {
        "colab": {
          "base_uri": "https://localhost:8080/"
        },
        "id": "ZYXQheMex6Vh",
        "outputId": "f710d308-c0df-4435-f808-5e12fa9a15b9"
      },
      "execution_count": 22,
      "outputs": [
        {
          "output_type": "execute_result",
          "data": {
            "text/plain": [
              "array([10,  1,  2,  3,  4,  5,  6,  7,  8,  9])"
            ]
          },
          "metadata": {},
          "execution_count": 22
        }
      ]
    },
    {
      "cell_type": "code",
      "source": [
        "a = np.arange(10)\n",
        "c = a[::2].copy() # force a copy\n",
        "c"
      ],
      "metadata": {
        "colab": {
          "base_uri": "https://localhost:8080/"
        },
        "id": "JmTOI8eix70K",
        "outputId": "263319f7-20bd-4b1b-c2cd-200606ebf030"
      },
      "execution_count": 23,
      "outputs": [
        {
          "output_type": "execute_result",
          "data": {
            "text/plain": [
              "array([0, 2, 4, 6, 8])"
            ]
          },
          "metadata": {},
          "execution_count": 23
        }
      ]
    },
    {
      "cell_type": "code",
      "source": [
        "np.shares_memory(a, c)"
      ],
      "metadata": {
        "colab": {
          "base_uri": "https://localhost:8080/"
        },
        "id": "2fZbOkvzyTlW",
        "outputId": "f776843b-c07a-4a08-fdc7-77215f74cae8"
      },
      "execution_count": 24,
      "outputs": [
        {
          "output_type": "execute_result",
          "data": {
            "text/plain": [
              "False"
            ]
          },
          "metadata": {},
          "execution_count": 24
        }
      ]
    },
    {
      "cell_type": "code",
      "source": [
        "c[0] = 10\n",
        "c"
      ],
      "metadata": {
        "colab": {
          "base_uri": "https://localhost:8080/"
        },
        "id": "_YP6qY7eyXIO",
        "outputId": "24793c9a-9287-4811-e2ba-61a9a3c16001"
      },
      "execution_count": 26,
      "outputs": [
        {
          "output_type": "execute_result",
          "data": {
            "text/plain": [
              "array([10,  2,  4,  6,  8])"
            ]
          },
          "metadata": {},
          "execution_count": 26
        }
      ]
    },
    {
      "cell_type": "code",
      "source": [
        "a # No more memory sharing due to copy functions"
      ],
      "metadata": {
        "colab": {
          "base_uri": "https://localhost:8080/"
        },
        "id": "hTs3IU4oyZou",
        "outputId": "39ba2085-371c-474c-b6c6-8acbde33fcb5"
      },
      "execution_count": 28,
      "outputs": [
        {
          "output_type": "execute_result",
          "data": {
            "text/plain": [
              "array([0, 1, 2, 3, 4, 5, 6, 7, 8, 9])"
            ]
          },
          "metadata": {},
          "execution_count": 28
        }
      ]
    },
    {
      "cell_type": "markdown",
      "source": [
        "## **1.5 Fancy Indexing**"
      ],
      "metadata": {
        "id": "gIelFNdsylNT"
      }
    },
    {
      "cell_type": "markdown",
      "source": [
        "Numpy arrays can be indexed with slices, but also with boolean or integer arrays(masks). This method is called fancy indexing. It creates copies not views."
      ],
      "metadata": {
        "id": "zkhxakJOy1mH"
      }
    },
    {
      "cell_type": "markdown",
      "source": [
        "### **1.5.1 Using Boolean Masks**"
      ],
      "metadata": {
        "id": "dVjxHuMTzMVx"
      }
    },
    {
      "cell_type": "code",
      "source": [
        "a = np.random.randint(0, 20, 15)\n",
        "a"
      ],
      "metadata": {
        "colab": {
          "base_uri": "https://localhost:8080/"
        },
        "id": "DKUWHVfVzRNB",
        "outputId": "8dde79ac-af67-496f-bf9d-0aa8fa1bcdba"
      },
      "execution_count": 38,
      "outputs": [
        {
          "output_type": "execute_result",
          "data": {
            "text/plain": [
              "array([ 6, 16,  2, 15,  6, 19, 19,  9, 12, 17, 13, 15,  7,  3, 10])"
            ]
          },
          "metadata": {},
          "execution_count": 38
        }
      ]
    },
    {
      "cell_type": "code",
      "source": [
        "mask = (a % 2 == 0)"
      ],
      "metadata": {
        "id": "z-s3jqwrzYov"
      },
      "execution_count": 39,
      "outputs": []
    },
    {
      "cell_type": "code",
      "source": [
        "extract_from_a = a[mask]\n",
        "extract_from_a"
      ],
      "metadata": {
        "colab": {
          "base_uri": "https://localhost:8080/"
        },
        "id": "DhzwVXkLzcj6",
        "outputId": "8b3aeb89-14f5-41b6-d11f-16cb56deb30c"
      },
      "execution_count": 40,
      "outputs": [
        {
          "output_type": "execute_result",
          "data": {
            "text/plain": [
              "array([ 6, 16,  2,  6, 12, 10])"
            ]
          },
          "metadata": {},
          "execution_count": 40
        }
      ]
    },
    {
      "cell_type": "code",
      "source": [
        "# Indexing with a mask can be very useful to assign a new value to a sub-array:\n",
        "\n",
        "a[mask] = -1\n",
        "a   # all even numbers become equal to -1"
      ],
      "metadata": {
        "colab": {
          "base_uri": "https://localhost:8080/"
        },
        "id": "j_NNRnfyzjuC",
        "outputId": "e6683ec8-ce92-449e-9562-7fdb4d24390a"
      },
      "execution_count": 33,
      "outputs": [
        {
          "output_type": "execute_result",
          "data": {
            "text/plain": [
              "array([ 9,  1, -1, -1, -1,  9, -1,  7, 17, -1,  7, -1, -1,  1, -1])"
            ]
          },
          "metadata": {},
          "execution_count": 33
        }
      ]
    },
    {
      "cell_type": "code",
      "source": [
        "a = np.arange(0, 100, 10)\n",
        "a"
      ],
      "metadata": {
        "colab": {
          "base_uri": "https://localhost:8080/"
        },
        "id": "ZDYmdpzM0HnA",
        "outputId": "72e25508-d9dd-4a1d-ec0c-0b22535b41b8"
      },
      "execution_count": 34,
      "outputs": [
        {
          "output_type": "execute_result",
          "data": {
            "text/plain": [
              "array([ 0, 10, 20, 30, 40, 50, 60, 70, 80, 90])"
            ]
          },
          "metadata": {},
          "execution_count": 34
        }
      ]
    },
    {
      "cell_type": "code",
      "source": [
        "# Indexing can be done with an array of integers, where the same index is reused\n",
        "\n",
        "a[[2, 3, 2, 4, 2]]"
      ],
      "metadata": {
        "colab": {
          "base_uri": "https://localhost:8080/"
        },
        "id": "GctaLoBX0aA7",
        "outputId": "84711933-136e-4d99-c32f-e27ac7f06bdb"
      },
      "execution_count": 35,
      "outputs": [
        {
          "output_type": "execute_result",
          "data": {
            "text/plain": [
              "array([20, 30, 20, 40, 20])"
            ]
          },
          "metadata": {},
          "execution_count": 35
        }
      ]
    },
    {
      "cell_type": "code",
      "source": [
        "# New values can be assigned\n",
        "\n",
        "a[[9, 7]] = -200\n",
        "a"
      ],
      "metadata": {
        "colab": {
          "base_uri": "https://localhost:8080/"
        },
        "id": "VGWOxo8T0rkT",
        "outputId": "d3b57833-9079-4dfa-a06d-1c8f4acb04c7"
      },
      "execution_count": 41,
      "outputs": [
        {
          "output_type": "execute_result",
          "data": {
            "text/plain": [
              "array([   6,   16,    2,   15,    6,   19,   19, -200,   12, -200,   13,\n",
              "         15,    7,    3,   10])"
            ]
          },
          "metadata": {},
          "execution_count": 41
        }
      ]
    }
  ]
}